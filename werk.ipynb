{
 "cells": [
  {
   "cell_type": "code",
   "execution_count": 1,
   "metadata": {},
   "outputs": [],
   "source": [
    "import pandas as pd\n",
    "import matplotlib.pyplot as plt\n",
    "import numpy as np\n",
    "import seaborn as sns"
   ]
  },
  {
   "cell_type": "code",
   "execution_count": null,
   "metadata": {},
   "outputs": [],
   "source": [
    "df_eur = pd.read_csv('DEXUSEU.csv')"
   ]
  },
  {
   "cell_type": "code",
   "execution_count": null,
   "metadata": {},
   "outputs": [
    {
     "data": {
      "text/html": [
       "<div>\n",
       "<style scoped>\n",
       "    .dataframe tbody tr th:only-of-type {\n",
       "        vertical-align: middle;\n",
       "    }\n",
       "\n",
       "    .dataframe tbody tr th {\n",
       "        vertical-align: top;\n",
       "    }\n",
       "\n",
       "    .dataframe thead th {\n",
       "        text-align: right;\n",
       "    }\n",
       "</style>\n",
       "<table border=\"1\" class=\"dataframe\">\n",
       "  <thead>\n",
       "    <tr style=\"text-align: right;\">\n",
       "      <th></th>\n",
       "      <th>DATE</th>\n",
       "      <th>DEXUSEU</th>\n",
       "    </tr>\n",
       "  </thead>\n",
       "  <tbody>\n",
       "    <tr>\n",
       "      <th>6578</th>\n",
       "      <td>2024-03-21</td>\n",
       "      <td>1.0861</td>\n",
       "    </tr>\n",
       "    <tr>\n",
       "      <th>6579</th>\n",
       "      <td>2024-03-22</td>\n",
       "      <td>1.0817</td>\n",
       "    </tr>\n",
       "  </tbody>\n",
       "</table>\n",
       "</div>"
      ],
      "text/plain": [
       "            DATE DEXUSEU\n",
       "6578  2024-03-21  1.0861\n",
       "6579  2024-03-22  1.0817"
      ]
     },
     "execution_count": 23,
     "metadata": {},
     "output_type": "execute_result"
    }
   ],
   "source": [
    "df_eur.tail(2)"
   ]
  },
  {
   "cell_type": "code",
   "execution_count": null,
   "metadata": {},
   "outputs": [],
   "source": [
    "df_sp = pd.read_csv('^SPX.csv')"
   ]
  },
  {
   "cell_type": "code",
   "execution_count": null,
   "metadata": {},
   "outputs": [
    {
     "data": {
      "text/html": [
       "<div>\n",
       "<style scoped>\n",
       "    .dataframe tbody tr th:only-of-type {\n",
       "        vertical-align: middle;\n",
       "    }\n",
       "\n",
       "    .dataframe tbody tr th {\n",
       "        vertical-align: top;\n",
       "    }\n",
       "\n",
       "    .dataframe thead th {\n",
       "        text-align: right;\n",
       "    }\n",
       "</style>\n",
       "<table border=\"1\" class=\"dataframe\">\n",
       "  <thead>\n",
       "    <tr style=\"text-align: right;\">\n",
       "      <th></th>\n",
       "      <th>DATE</th>\n",
       "      <th>Open</th>\n",
       "      <th>High</th>\n",
       "      <th>Low</th>\n",
       "      <th>Close</th>\n",
       "      <th>Adj Close</th>\n",
       "      <th>Volume</th>\n",
       "    </tr>\n",
       "  </thead>\n",
       "  <tbody>\n",
       "    <tr>\n",
       "      <th>24174</th>\n",
       "      <td>2024-03-27</td>\n",
       "      <td>5226.310059</td>\n",
       "      <td>5249.259766</td>\n",
       "      <td>5213.919922</td>\n",
       "      <td>5248.490234</td>\n",
       "      <td>5248.490234</td>\n",
       "      <td>3850500000</td>\n",
       "    </tr>\n",
       "    <tr>\n",
       "      <th>24175</th>\n",
       "      <td>2024-03-28</td>\n",
       "      <td>5248.029785</td>\n",
       "      <td>5264.850098</td>\n",
       "      <td>5245.819824</td>\n",
       "      <td>5254.350098</td>\n",
       "      <td>5254.350098</td>\n",
       "      <td>3998270000</td>\n",
       "    </tr>\n",
       "  </tbody>\n",
       "</table>\n",
       "</div>"
      ],
      "text/plain": [
       "             DATE         Open         High          Low        Close  \\\n",
       "24174  2024-03-27  5226.310059  5249.259766  5213.919922  5248.490234   \n",
       "24175  2024-03-28  5248.029785  5264.850098  5245.819824  5254.350098   \n",
       "\n",
       "         Adj Close      Volume  \n",
       "24174  5248.490234  3850500000  \n",
       "24175  5254.350098  3998270000  "
      ]
     },
     "execution_count": 65,
     "metadata": {},
     "output_type": "execute_result"
    }
   ],
   "source": [
    "df_sp.tail(2)"
   ]
  },
  {
   "cell_type": "code",
   "execution_count": null,
   "metadata": {},
   "outputs": [],
   "source": [
    "df_gbp = pd.read_csv('DEXUSUK.csv')"
   ]
  },
  {
   "cell_type": "code",
   "execution_count": null,
   "metadata": {},
   "outputs": [
    {
     "data": {
      "text/html": [
       "<div>\n",
       "<style scoped>\n",
       "    .dataframe tbody tr th:only-of-type {\n",
       "        vertical-align: middle;\n",
       "    }\n",
       "\n",
       "    .dataframe tbody tr th {\n",
       "        vertical-align: top;\n",
       "    }\n",
       "\n",
       "    .dataframe thead th {\n",
       "        text-align: right;\n",
       "    }\n",
       "</style>\n",
       "<table border=\"1\" class=\"dataframe\">\n",
       "  <thead>\n",
       "    <tr style=\"text-align: right;\">\n",
       "      <th></th>\n",
       "      <th>DATE</th>\n",
       "      <th>DEXUSUK</th>\n",
       "    </tr>\n",
       "  </thead>\n",
       "  <tbody>\n",
       "    <tr>\n",
       "      <th>13883</th>\n",
       "      <td>2024-03-21</td>\n",
       "      <td>1.267</td>\n",
       "    </tr>\n",
       "    <tr>\n",
       "      <th>13884</th>\n",
       "      <td>2024-03-22</td>\n",
       "      <td>1.2603</td>\n",
       "    </tr>\n",
       "  </tbody>\n",
       "</table>\n",
       "</div>"
      ],
      "text/plain": [
       "             DATE DEXUSUK\n",
       "13883  2024-03-21   1.267\n",
       "13884  2024-03-22  1.2603"
      ]
     },
     "execution_count": 24,
     "metadata": {},
     "output_type": "execute_result"
    }
   ],
   "source": [
    "df_gbp.tail(2)"
   ]
  },
  {
   "cell_type": "code",
   "execution_count": null,
   "metadata": {},
   "outputs": [],
   "source": [
    "df_nasdaq = pd.read_csv('NASDAQCOM.csv')"
   ]
  },
  {
   "cell_type": "code",
   "execution_count": null,
   "metadata": {},
   "outputs": [
    {
     "data": {
      "text/html": [
       "<div>\n",
       "<style scoped>\n",
       "    .dataframe tbody tr th:only-of-type {\n",
       "        vertical-align: middle;\n",
       "    }\n",
       "\n",
       "    .dataframe tbody tr th {\n",
       "        vertical-align: top;\n",
       "    }\n",
       "\n",
       "    .dataframe thead th {\n",
       "        text-align: right;\n",
       "    }\n",
       "</style>\n",
       "<table border=\"1\" class=\"dataframe\">\n",
       "  <thead>\n",
       "    <tr style=\"text-align: right;\">\n",
       "      <th></th>\n",
       "      <th>DATE</th>\n",
       "      <th>NASDAQCOM</th>\n",
       "    </tr>\n",
       "  </thead>\n",
       "  <tbody>\n",
       "    <tr>\n",
       "      <th>0</th>\n",
       "      <td>1971-02-05</td>\n",
       "      <td>100.00</td>\n",
       "    </tr>\n",
       "    <tr>\n",
       "      <th>1</th>\n",
       "      <td>1971-02-08</td>\n",
       "      <td>100.84</td>\n",
       "    </tr>\n",
       "    <tr>\n",
       "      <th>2</th>\n",
       "      <td>1971-02-09</td>\n",
       "      <td>100.76</td>\n",
       "    </tr>\n",
       "    <tr>\n",
       "      <th>3</th>\n",
       "      <td>1971-02-10</td>\n",
       "      <td>100.69</td>\n",
       "    </tr>\n",
       "    <tr>\n",
       "      <th>4</th>\n",
       "      <td>1971-02-11</td>\n",
       "      <td>101.45</td>\n",
       "    </tr>\n",
       "    <tr>\n",
       "      <th>...</th>\n",
       "      <td>...</td>\n",
       "      <td>...</td>\n",
       "    </tr>\n",
       "    <tr>\n",
       "      <th>13860</th>\n",
       "      <td>2024-03-22</td>\n",
       "      <td>16428.82</td>\n",
       "    </tr>\n",
       "    <tr>\n",
       "      <th>13861</th>\n",
       "      <td>2024-03-25</td>\n",
       "      <td>16384.47</td>\n",
       "    </tr>\n",
       "    <tr>\n",
       "      <th>13862</th>\n",
       "      <td>2024-03-26</td>\n",
       "      <td>16315.70</td>\n",
       "    </tr>\n",
       "    <tr>\n",
       "      <th>13863</th>\n",
       "      <td>2024-03-27</td>\n",
       "      <td>16399.52</td>\n",
       "    </tr>\n",
       "    <tr>\n",
       "      <th>13864</th>\n",
       "      <td>2024-03-28</td>\n",
       "      <td>16379.46</td>\n",
       "    </tr>\n",
       "  </tbody>\n",
       "</table>\n",
       "<p>13865 rows × 2 columns</p>\n",
       "</div>"
      ],
      "text/plain": [
       "             DATE NASDAQCOM\n",
       "0      1971-02-05    100.00\n",
       "1      1971-02-08    100.84\n",
       "2      1971-02-09    100.76\n",
       "3      1971-02-10    100.69\n",
       "4      1971-02-11    101.45\n",
       "...           ...       ...\n",
       "13860  2024-03-22  16428.82\n",
       "13861  2024-03-25  16384.47\n",
       "13862  2024-03-26  16315.70\n",
       "13863  2024-03-27  16399.52\n",
       "13864  2024-03-28  16379.46\n",
       "\n",
       "[13865 rows x 2 columns]"
      ]
     },
     "execution_count": 9,
     "metadata": {},
     "output_type": "execute_result"
    }
   ],
   "source": [
    "df_nasdaq"
   ]
  },
  {
   "cell_type": "code",
   "execution_count": null,
   "metadata": {},
   "outputs": [],
   "source": [
    "df_yen = pd.read_csv('DEXJPUS.csv')"
   ]
  },
  {
   "cell_type": "code",
   "execution_count": null,
   "metadata": {},
   "outputs": [
    {
     "data": {
      "text/html": [
       "<div>\n",
       "<style scoped>\n",
       "    .dataframe tbody tr th:only-of-type {\n",
       "        vertical-align: middle;\n",
       "    }\n",
       "\n",
       "    .dataframe tbody tr th {\n",
       "        vertical-align: top;\n",
       "    }\n",
       "\n",
       "    .dataframe thead th {\n",
       "        text-align: right;\n",
       "    }\n",
       "</style>\n",
       "<table border=\"1\" class=\"dataframe\">\n",
       "  <thead>\n",
       "    <tr style=\"text-align: right;\">\n",
       "      <th></th>\n",
       "      <th>DATE</th>\n",
       "      <th>DEXJPUS</th>\n",
       "    </tr>\n",
       "  </thead>\n",
       "  <tbody>\n",
       "    <tr>\n",
       "      <th>13883</th>\n",
       "      <td>2024-03-21</td>\n",
       "      <td>151.59</td>\n",
       "    </tr>\n",
       "    <tr>\n",
       "      <th>13884</th>\n",
       "      <td>2024-03-22</td>\n",
       "      <td>151.35</td>\n",
       "    </tr>\n",
       "  </tbody>\n",
       "</table>\n",
       "</div>"
      ],
      "text/plain": [
       "             DATE DEXJPUS\n",
       "13883  2024-03-21  151.59\n",
       "13884  2024-03-22  151.35"
      ]
     },
     "execution_count": 25,
     "metadata": {},
     "output_type": "execute_result"
    }
   ],
   "source": [
    "df_yen.tail(2)"
   ]
  },
  {
   "cell_type": "code",
   "execution_count": null,
   "metadata": {},
   "outputs": [],
   "source": [
    "# S. Bureau of Economic Analysis, Balance on Current Account, NIPA's [NETFI], retrieved from FRED, Federal Reserve Bank of St. Louis; https://fred.stlouisfed.org/series/NETFI, March 29, 2024.\n",
    "df_cab = pd.read_csv('NETFI.csv')\n",
    "df_cab = df_cab.rename({'NETFI': 'Balance Curr Acc'}, axis=1)"
   ]
  },
  {
   "cell_type": "code",
   "execution_count": null,
   "metadata": {},
   "outputs": [
    {
     "data": {
      "text/html": [
       "<div>\n",
       "<style scoped>\n",
       "    .dataframe tbody tr th:only-of-type {\n",
       "        vertical-align: middle;\n",
       "    }\n",
       "\n",
       "    .dataframe tbody tr th {\n",
       "        vertical-align: top;\n",
       "    }\n",
       "\n",
       "    .dataframe thead th {\n",
       "        text-align: right;\n",
       "    }\n",
       "</style>\n",
       "<table border=\"1\" class=\"dataframe\">\n",
       "  <thead>\n",
       "    <tr style=\"text-align: right;\">\n",
       "      <th></th>\n",
       "      <th>Indicator Name</th>\n",
       "      <th>Political Stability and Absence of Violence/Terrorism: Percentile Rank</th>\n",
       "    </tr>\n",
       "  </thead>\n",
       "  <tbody>\n",
       "    <tr>\n",
       "      <th>0</th>\n",
       "      <td>1991</td>\n",
       "      <td>NaN</td>\n",
       "    </tr>\n",
       "    <tr>\n",
       "      <th>1</th>\n",
       "      <td>1992</td>\n",
       "      <td>NaN</td>\n",
       "    </tr>\n",
       "  </tbody>\n",
       "</table>\n",
       "</div>"
      ],
      "text/plain": [
       "   Indicator Name  \\\n",
       "0            1991   \n",
       "1            1992   \n",
       "\n",
       "   Political Stability and Absence of Violence/Terrorism: Percentile Rank  \n",
       "0                                                NaN                       \n",
       "1                                                NaN                       "
      ]
     },
     "execution_count": 12,
     "metadata": {},
     "output_type": "execute_result"
    }
   ],
   "source": [
    "#https://data.worldbank.org/indicator/PV.PER.RNK\n",
    "df_pol = pd.read_csv('political_stab.csv')\n",
    "df_pol.head(2)"
   ]
  },
  {
   "cell_type": "code",
   "execution_count": null,
   "metadata": {},
   "outputs": [
    {
     "data": {
      "text/html": [
       "<div>\n",
       "<style scoped>\n",
       "    .dataframe tbody tr th:only-of-type {\n",
       "        vertical-align: middle;\n",
       "    }\n",
       "\n",
       "    .dataframe tbody tr th {\n",
       "        vertical-align: top;\n",
       "    }\n",
       "\n",
       "    .dataframe thead th {\n",
       "        text-align: right;\n",
       "    }\n",
       "</style>\n",
       "<table border=\"1\" class=\"dataframe\">\n",
       "  <thead>\n",
       "    <tr style=\"text-align: right;\">\n",
       "      <th></th>\n",
       "      <th>DATE</th>\n",
       "      <th>GDPC1</th>\n",
       "    </tr>\n",
       "  </thead>\n",
       "  <tbody>\n",
       "    <tr>\n",
       "      <th>0</th>\n",
       "      <td>1947-01-01</td>\n",
       "      <td>2182.681</td>\n",
       "    </tr>\n",
       "    <tr>\n",
       "      <th>1</th>\n",
       "      <td>1947-04-01</td>\n",
       "      <td>2176.892</td>\n",
       "    </tr>\n",
       "  </tbody>\n",
       "</table>\n",
       "</div>"
      ],
      "text/plain": [
       "         DATE     GDPC1\n",
       "0  1947-01-01  2182.681\n",
       "1  1947-04-01  2176.892"
      ]
     },
     "execution_count": 116,
     "metadata": {},
     "output_type": "execute_result"
    }
   ],
   "source": [
    "df_gdp = pd.read_csv('GDPC1.csv')\n",
    "#U.S. Bureau of Economic Analysis, Real Gross Domestic Product [GDPC1], retrieved from FRED, Federal Reserve Bank of St. Louis; https://fred.stlouisfed.org/series/GDPC1, March 28, 2024.\n",
    "df_gdp.head(2)"
   ]
  },
  {
   "cell_type": "code",
   "execution_count": null,
   "metadata": {},
   "outputs": [
    {
     "data": {
      "text/html": [
       "<div>\n",
       "<style scoped>\n",
       "    .dataframe tbody tr th:only-of-type {\n",
       "        vertical-align: middle;\n",
       "    }\n",
       "\n",
       "    .dataframe tbody tr th {\n",
       "        vertical-align: top;\n",
       "    }\n",
       "\n",
       "    .dataframe thead th {\n",
       "        text-align: right;\n",
       "    }\n",
       "</style>\n",
       "<table border=\"1\" class=\"dataframe\">\n",
       "  <thead>\n",
       "    <tr style=\"text-align: right;\">\n",
       "      <th></th>\n",
       "      <th>DATE</th>\n",
       "      <th>GFDEBTN</th>\n",
       "    </tr>\n",
       "  </thead>\n",
       "  <tbody>\n",
       "    <tr>\n",
       "      <th>0</th>\n",
       "      <td>1966-01-01</td>\n",
       "      <td>320999.0</td>\n",
       "    </tr>\n",
       "    <tr>\n",
       "      <th>1</th>\n",
       "      <td>1966-04-01</td>\n",
       "      <td>316097.0</td>\n",
       "    </tr>\n",
       "  </tbody>\n",
       "</table>\n",
       "</div>"
      ],
      "text/plain": [
       "         DATE   GFDEBTN\n",
       "0  1966-01-01  320999.0\n",
       "1  1966-04-01  316097.0"
      ]
     },
     "execution_count": 14,
     "metadata": {},
     "output_type": "execute_result"
    }
   ],
   "source": [
    "df_debt = pd.read_csv('GFDEBTN.csv')\n",
    "#U.S. Department of the Treasury. Fiscal Service, Federal Debt: Total Public Debt [GFDEBTN], retrieved from FRED, Federal Reserve Bank of St. Louis; https://fred.stlouisfed.org/series/GFDEBTN, March 27, 2024.\n",
    "df_debt.head(2)"
   ]
  },
  {
   "cell_type": "code",
   "execution_count": null,
   "metadata": {},
   "outputs": [
    {
     "data": {
      "text/html": [
       "<div>\n",
       "<style scoped>\n",
       "    .dataframe tbody tr th:only-of-type {\n",
       "        vertical-align: middle;\n",
       "    }\n",
       "\n",
       "    .dataframe tbody tr th {\n",
       "        vertical-align: top;\n",
       "    }\n",
       "\n",
       "    .dataframe thead th {\n",
       "        text-align: right;\n",
       "    }\n",
       "</style>\n",
       "<table border=\"1\" class=\"dataframe\">\n",
       "  <thead>\n",
       "    <tr style=\"text-align: right;\">\n",
       "      <th></th>\n",
       "      <th>DATE</th>\n",
       "      <th>PCECTPI</th>\n",
       "    </tr>\n",
       "  </thead>\n",
       "  <tbody>\n",
       "    <tr>\n",
       "      <th>0</th>\n",
       "      <td>1947-01-01</td>\n",
       "      <td>11.557</td>\n",
       "    </tr>\n",
       "    <tr>\n",
       "      <th>1</th>\n",
       "      <td>1947-04-01</td>\n",
       "      <td>11.649</td>\n",
       "    </tr>\n",
       "  </tbody>\n",
       "</table>\n",
       "</div>"
      ],
      "text/plain": [
       "         DATE  PCECTPI\n",
       "0  1947-01-01   11.557\n",
       "1  1947-04-01   11.649"
      ]
     },
     "execution_count": 117,
     "metadata": {},
     "output_type": "execute_result"
    }
   ],
   "source": [
    "df_infl = pd.read_csv('PCECTPI_quart.csv')\n",
    "#https://fred.stlouisfed.org/series/PCECTPI\n",
    "df_infl.head(2)"
   ]
  },
  {
   "cell_type": "code",
   "execution_count": null,
   "metadata": {},
   "outputs": [],
   "source": [
    "df_dj = pd.read_csv('dowjones.csv')"
   ]
  },
  {
   "cell_type": "code",
   "execution_count": null,
   "metadata": {},
   "outputs": [
    {
     "data": {
      "text/html": [
       "<div>\n",
       "<style scoped>\n",
       "    .dataframe tbody tr th:only-of-type {\n",
       "        vertical-align: middle;\n",
       "    }\n",
       "\n",
       "    .dataframe tbody tr th {\n",
       "        vertical-align: top;\n",
       "    }\n",
       "\n",
       "    .dataframe thead th {\n",
       "        text-align: right;\n",
       "    }\n",
       "</style>\n",
       "<table border=\"1\" class=\"dataframe\">\n",
       "  <thead>\n",
       "    <tr style=\"text-align: right;\">\n",
       "      <th></th>\n",
       "      <th>DATE</th>\n",
       "      <th>USD to JPY</th>\n",
       "      <th>USD to EUR</th>\n",
       "      <th>USD to GBP</th>\n",
       "      <th>Open</th>\n",
       "      <th>High</th>\n",
       "      <th>Low</th>\n",
       "      <th>Close</th>\n",
       "    </tr>\n",
       "  </thead>\n",
       "  <tbody>\n",
       "    <tr>\n",
       "      <th>0</th>\n",
       "      <td>1999-01-04</td>\n",
       "      <td>0.008917</td>\n",
       "      <td>1.1812</td>\n",
       "      <td>1.6581</td>\n",
       "      <td>9184.27</td>\n",
       "      <td>9393.84</td>\n",
       "      <td>9089.00</td>\n",
       "      <td>9184.27</td>\n",
       "    </tr>\n",
       "    <tr>\n",
       "      <th>1</th>\n",
       "      <td>1999-01-05</td>\n",
       "      <td>0.008997</td>\n",
       "      <td>1.1760</td>\n",
       "      <td>1.6566</td>\n",
       "      <td>9311.19</td>\n",
       "      <td>9389.46</td>\n",
       "      <td>9137.66</td>\n",
       "      <td>9311.19</td>\n",
       "    </tr>\n",
       "    <tr>\n",
       "      <th>2</th>\n",
       "      <td>1999-01-06</td>\n",
       "      <td>0.008867</td>\n",
       "      <td>1.1636</td>\n",
       "      <td>1.6547</td>\n",
       "      <td>9544.97</td>\n",
       "      <td>9608.05</td>\n",
       "      <td>9331.02</td>\n",
       "      <td>9544.97</td>\n",
       "    </tr>\n",
       "    <tr>\n",
       "      <th>3</th>\n",
       "      <td>1999-01-07</td>\n",
       "      <td>0.008953</td>\n",
       "      <td>1.1672</td>\n",
       "      <td>1.6495</td>\n",
       "      <td>9537.76</td>\n",
       "      <td>9616.29</td>\n",
       "      <td>9369.12</td>\n",
       "      <td>9537.76</td>\n",
       "    </tr>\n",
       "    <tr>\n",
       "      <th>4</th>\n",
       "      <td>1999-01-08</td>\n",
       "      <td>0.008967</td>\n",
       "      <td>1.1554</td>\n",
       "      <td>1.6405</td>\n",
       "      <td>9643.32</td>\n",
       "      <td>9759.44</td>\n",
       "      <td>9447.91</td>\n",
       "      <td>9643.32</td>\n",
       "    </tr>\n",
       "    <tr>\n",
       "      <th>...</th>\n",
       "      <td>...</td>\n",
       "      <td>...</td>\n",
       "      <td>...</td>\n",
       "      <td>...</td>\n",
       "      <td>...</td>\n",
       "      <td>...</td>\n",
       "      <td>...</td>\n",
       "      <td>...</td>\n",
       "    </tr>\n",
       "    <tr>\n",
       "      <th>6341</th>\n",
       "      <td>2024-03-18</td>\n",
       "      <td>0.006706</td>\n",
       "      <td>1.0886</td>\n",
       "      <td>1.2736</td>\n",
       "      <td>38826.93</td>\n",
       "      <td>38898.41</td>\n",
       "      <td>38760.79</td>\n",
       "      <td>38790.43</td>\n",
       "    </tr>\n",
       "    <tr>\n",
       "      <th>6342</th>\n",
       "      <td>2024-03-19</td>\n",
       "      <td>0.006634</td>\n",
       "      <td>1.0859</td>\n",
       "      <td>1.2713</td>\n",
       "      <td>38819.61</td>\n",
       "      <td>39122.71</td>\n",
       "      <td>38761.28</td>\n",
       "      <td>39110.76</td>\n",
       "    </tr>\n",
       "    <tr>\n",
       "      <th>6343</th>\n",
       "      <td>2024-03-20</td>\n",
       "      <td>0.006594</td>\n",
       "      <td>1.0856</td>\n",
       "      <td>1.2713</td>\n",
       "      <td>39072.05</td>\n",
       "      <td>39529.13</td>\n",
       "      <td>38988.65</td>\n",
       "      <td>39512.13</td>\n",
       "    </tr>\n",
       "    <tr>\n",
       "      <th>6344</th>\n",
       "      <td>2024-03-21</td>\n",
       "      <td>0.006597</td>\n",
       "      <td>1.0861</td>\n",
       "      <td>1.2670</td>\n",
       "      <td>39661.03</td>\n",
       "      <td>39889.05</td>\n",
       "      <td>39589.23</td>\n",
       "      <td>39781.37</td>\n",
       "    </tr>\n",
       "    <tr>\n",
       "      <th>6345</th>\n",
       "      <td>2024-03-22</td>\n",
       "      <td>0.006607</td>\n",
       "      <td>1.0817</td>\n",
       "      <td>1.2603</td>\n",
       "      <td>39774.06</td>\n",
       "      <td>39824.76</td>\n",
       "      <td>39469.53</td>\n",
       "      <td>39475.90</td>\n",
       "    </tr>\n",
       "  </tbody>\n",
       "</table>\n",
       "<p>6346 rows × 8 columns</p>\n",
       "</div>"
      ],
      "text/plain": [
       "           DATE  USD to JPY  USD to EUR  USD to GBP      Open      High  \\\n",
       "0    1999-01-04    0.008917      1.1812      1.6581   9184.27   9393.84   \n",
       "1    1999-01-05    0.008997      1.1760      1.6566   9311.19   9389.46   \n",
       "2    1999-01-06    0.008867      1.1636      1.6547   9544.97   9608.05   \n",
       "3    1999-01-07    0.008953      1.1672      1.6495   9537.76   9616.29   \n",
       "4    1999-01-08    0.008967      1.1554      1.6405   9643.32   9759.44   \n",
       "...         ...         ...         ...         ...       ...       ...   \n",
       "6341 2024-03-18    0.006706      1.0886      1.2736  38826.93  38898.41   \n",
       "6342 2024-03-19    0.006634      1.0859      1.2713  38819.61  39122.71   \n",
       "6343 2024-03-20    0.006594      1.0856      1.2713  39072.05  39529.13   \n",
       "6344 2024-03-21    0.006597      1.0861      1.2670  39661.03  39889.05   \n",
       "6345 2024-03-22    0.006607      1.0817      1.2603  39774.06  39824.76   \n",
       "\n",
       "           Low     Close  \n",
       "0      9089.00   9184.27  \n",
       "1      9137.66   9311.19  \n",
       "2      9331.02   9544.97  \n",
       "3      9369.12   9537.76  \n",
       "4      9447.91   9643.32  \n",
       "...        ...       ...  \n",
       "6341  38760.79  38790.43  \n",
       "6342  38761.28  39110.76  \n",
       "6343  38988.65  39512.13  \n",
       "6344  39589.23  39781.37  \n",
       "6345  39469.53  39475.90  \n",
       "\n",
       "[6346 rows x 8 columns]"
      ]
     },
     "execution_count": 54,
     "metadata": {},
     "output_type": "execute_result"
    }
   ],
   "source": [
    "# df_dj.rename(columns={'Date': 'DATE'}, inplace=True)\n",
    "df_dj"
   ]
  },
  {
   "cell_type": "code",
   "execution_count": null,
   "metadata": {},
   "outputs": [],
   "source": [
    "df_eur['DATE'] = pd.to_datetime(df_eur['DATE'])\n",
    "df_gbp['DATE'] = pd.to_datetime(df_gbp['DATE'])\n",
    "df_yen['DATE'] = pd.to_datetime(df_yen['DATE'])\n"
   ]
  },
  {
   "cell_type": "code",
   "execution_count": null,
   "metadata": {},
   "outputs": [],
   "source": [
    "merged_er = pd.merge(df_eur, df_gbp, on='DATE', how='outer')\n",
    "\n",
    "final_merged_er = pd.merge(merged_er, df_yen, on='DATE', how='outer')\n"
   ]
  },
  {
   "cell_type": "code",
   "execution_count": null,
   "metadata": {},
   "outputs": [],
   "source": [
    "final_merged_er.to_csv('ers.csv')"
   ]
  },
  {
   "cell_type": "code",
   "execution_count": null,
   "metadata": {},
   "outputs": [],
   "source": [
    "ers = pd.read_csv('ers_updated.csv')"
   ]
  },
  {
   "cell_type": "code",
   "execution_count": null,
   "metadata": {},
   "outputs": [
    {
     "data": {
      "text/html": [
       "<div>\n",
       "<style scoped>\n",
       "    .dataframe tbody tr th:only-of-type {\n",
       "        vertical-align: middle;\n",
       "    }\n",
       "\n",
       "    .dataframe tbody tr th {\n",
       "        vertical-align: top;\n",
       "    }\n",
       "\n",
       "    .dataframe thead th {\n",
       "        text-align: right;\n",
       "    }\n",
       "</style>\n",
       "<table border=\"1\" class=\"dataframe\">\n",
       "  <thead>\n",
       "    <tr style=\"text-align: right;\">\n",
       "      <th></th>\n",
       "      <th>DATE</th>\n",
       "      <th>USD to JPY</th>\n",
       "      <th>USD to EUR</th>\n",
       "      <th>USD to GBP</th>\n",
       "    </tr>\n",
       "  </thead>\n",
       "  <tbody>\n",
       "    <tr>\n",
       "      <th>0</th>\n",
       "      <td>1999-01-04</td>\n",
       "      <td>0.008917</td>\n",
       "      <td>1.1812</td>\n",
       "      <td>1.6581</td>\n",
       "    </tr>\n",
       "    <tr>\n",
       "      <th>1</th>\n",
       "      <td>1999-01-05</td>\n",
       "      <td>0.008997</td>\n",
       "      <td>1.1760</td>\n",
       "      <td>1.6566</td>\n",
       "    </tr>\n",
       "  </tbody>\n",
       "</table>\n",
       "</div>"
      ],
      "text/plain": [
       "         DATE  USD to JPY  USD to EUR  USD to GBP\n",
       "0  1999-01-04    0.008917      1.1812      1.6581\n",
       "1  1999-01-05    0.008997      1.1760      1.6566"
      ]
     },
     "execution_count": 47,
     "metadata": {},
     "output_type": "execute_result"
    }
   ],
   "source": [
    "ers.head(2)"
   ]
  },
  {
   "cell_type": "code",
   "execution_count": null,
   "metadata": {},
   "outputs": [
    {
     "name": "stderr",
     "output_type": "stream",
     "text": [
      "C:\\Users\\aghab\\AppData\\Local\\Temp\\ipykernel_20524\\258518436.py:1: UserWarning: Could not infer format, so each element will be parsed individually, falling back to `dateutil`. To ensure parsing is consistent and as-expected, please specify a format.\n",
      "  df_dj['DATE'] = pd.to_datetime(df_dj['DATE'])\n"
     ]
    }
   ],
   "source": [
    "# df_dj['DATE'] = pd.to_datetime(df_dj['DATE'])\n",
    "df_dj = pd.merge(ers, df_dj, on='DATE', how='inner')"
   ]
  },
  {
   "cell_type": "markdown",
   "metadata": {},
   "source": [
    "DJIA, s&p, nasdaq"
   ]
  },
  {
   "cell_type": "code",
   "execution_count": null,
   "metadata": {},
   "outputs": [],
   "source": [
    "df_dj = df_dj.rename({'Close': 'Close_DJ'}, axis=1)\n",
    "to_drop = [' Open', ' High', ' Low']\n",
    "df_dj.drop(to_drop, axis=1, inplace=True)"
   ]
  },
  {
   "cell_type": "code",
   "execution_count": null,
   "metadata": {},
   "outputs": [
    {
     "data": {
      "text/html": [
       "<div>\n",
       "<style scoped>\n",
       "    .dataframe tbody tr th:only-of-type {\n",
       "        vertical-align: middle;\n",
       "    }\n",
       "\n",
       "    .dataframe tbody tr th {\n",
       "        vertical-align: top;\n",
       "    }\n",
       "\n",
       "    .dataframe thead th {\n",
       "        text-align: right;\n",
       "    }\n",
       "</style>\n",
       "<table border=\"1\" class=\"dataframe\">\n",
       "  <thead>\n",
       "    <tr style=\"text-align: right;\">\n",
       "      <th></th>\n",
       "      <th>DATE</th>\n",
       "      <th>USD to JPY</th>\n",
       "      <th>USD to EUR</th>\n",
       "      <th>USD to GBP</th>\n",
       "      <th>Close_DJ</th>\n",
       "    </tr>\n",
       "  </thead>\n",
       "  <tbody>\n",
       "    <tr>\n",
       "      <th>0</th>\n",
       "      <td>1999-01-04</td>\n",
       "      <td>0.008917</td>\n",
       "      <td>1.1812</td>\n",
       "      <td>1.6581</td>\n",
       "      <td>9184.27</td>\n",
       "    </tr>\n",
       "    <tr>\n",
       "      <th>1</th>\n",
       "      <td>1999-01-05</td>\n",
       "      <td>0.008997</td>\n",
       "      <td>1.1760</td>\n",
       "      <td>1.6566</td>\n",
       "      <td>9311.19</td>\n",
       "    </tr>\n",
       "    <tr>\n",
       "      <th>2</th>\n",
       "      <td>1999-01-06</td>\n",
       "      <td>0.008867</td>\n",
       "      <td>1.1636</td>\n",
       "      <td>1.6547</td>\n",
       "      <td>9544.97</td>\n",
       "    </tr>\n",
       "  </tbody>\n",
       "</table>\n",
       "</div>"
      ],
      "text/plain": [
       "        DATE  USD to JPY  USD to EUR  USD to GBP  Close_DJ\n",
       "0 1999-01-04    0.008917      1.1812      1.6581   9184.27\n",
       "1 1999-01-05    0.008997      1.1760      1.6566   9311.19\n",
       "2 1999-01-06    0.008867      1.1636      1.6547   9544.97"
      ]
     },
     "execution_count": 63,
     "metadata": {},
     "output_type": "execute_result"
    }
   ],
   "source": [
    "df_dj = df_dj.rename({' Close': 'Close_DJ'}, axis=1)\n",
    "df_dj.head(3)"
   ]
  },
  {
   "cell_type": "code",
   "execution_count": null,
   "metadata": {},
   "outputs": [],
   "source": [
    "# df_sp = df_sp.rename({'Close': 'Close_SP', 'Adj Close' : 'Adj Close_SP', 'Volume' : 'Volume_SP'}, axis=1)\n",
    "df_sp.drop(['Open', 'High', 'Low'], axis=1, inplace=True)"
   ]
  },
  {
   "cell_type": "code",
   "execution_count": null,
   "metadata": {},
   "outputs": [
    {
     "data": {
      "text/html": [
       "<div>\n",
       "<style scoped>\n",
       "    .dataframe tbody tr th:only-of-type {\n",
       "        vertical-align: middle;\n",
       "    }\n",
       "\n",
       "    .dataframe tbody tr th {\n",
       "        vertical-align: top;\n",
       "    }\n",
       "\n",
       "    .dataframe thead th {\n",
       "        text-align: right;\n",
       "    }\n",
       "</style>\n",
       "<table border=\"1\" class=\"dataframe\">\n",
       "  <thead>\n",
       "    <tr style=\"text-align: right;\">\n",
       "      <th></th>\n",
       "      <th>DATE</th>\n",
       "      <th>USD to JPY</th>\n",
       "      <th>USD to EUR</th>\n",
       "      <th>USD to GBP</th>\n",
       "      <th>Close_SP</th>\n",
       "      <th>Adj Close_SP</th>\n",
       "      <th>Volume_SP</th>\n",
       "    </tr>\n",
       "  </thead>\n",
       "  <tbody>\n",
       "    <tr>\n",
       "      <th>0</th>\n",
       "      <td>1999-01-04</td>\n",
       "      <td>0.008917</td>\n",
       "      <td>1.1812</td>\n",
       "      <td>1.6581</td>\n",
       "      <td>1228.099976</td>\n",
       "      <td>1228.099976</td>\n",
       "      <td>877000000</td>\n",
       "    </tr>\n",
       "    <tr>\n",
       "      <th>1</th>\n",
       "      <td>1999-01-05</td>\n",
       "      <td>0.008997</td>\n",
       "      <td>1.1760</td>\n",
       "      <td>1.6566</td>\n",
       "      <td>1244.780029</td>\n",
       "      <td>1244.780029</td>\n",
       "      <td>775000000</td>\n",
       "    </tr>\n",
       "  </tbody>\n",
       "</table>\n",
       "</div>"
      ],
      "text/plain": [
       "        DATE  USD to JPY  USD to EUR  USD to GBP     Close_SP  Adj Close_SP  \\\n",
       "0 1999-01-04    0.008917      1.1812      1.6581  1228.099976   1228.099976   \n",
       "1 1999-01-05    0.008997      1.1760      1.6566  1244.780029   1244.780029   \n",
       "\n",
       "   Volume_SP  \n",
       "0  877000000  \n",
       "1  775000000  "
      ]
     },
     "execution_count": 73,
     "metadata": {},
     "output_type": "execute_result"
    }
   ],
   "source": [
    "df_sp['DATE'] = pd.to_datetime(df_sp['DATE'])\n",
    "df_sp = pd.merge(ers, df_sp, on='DATE', how='inner')\n",
    "df_sp.head(2)"
   ]
  },
  {
   "cell_type": "code",
   "execution_count": null,
   "metadata": {},
   "outputs": [
    {
     "data": {
      "text/html": [
       "<div>\n",
       "<style scoped>\n",
       "    .dataframe tbody tr th:only-of-type {\n",
       "        vertical-align: middle;\n",
       "    }\n",
       "\n",
       "    .dataframe tbody tr th {\n",
       "        vertical-align: top;\n",
       "    }\n",
       "\n",
       "    .dataframe thead th {\n",
       "        text-align: right;\n",
       "    }\n",
       "</style>\n",
       "<table border=\"1\" class=\"dataframe\">\n",
       "  <thead>\n",
       "    <tr style=\"text-align: right;\">\n",
       "      <th></th>\n",
       "      <th>DATE</th>\n",
       "      <th>USD to JPY</th>\n",
       "      <th>USD to EUR</th>\n",
       "      <th>USD to GBP</th>\n",
       "      <th>Close_SP</th>\n",
       "      <th>Adj Close_SP</th>\n",
       "      <th>Volume_SP</th>\n",
       "      <th>NASDAQCOM</th>\n",
       "      <th>Close_DJ</th>\n",
       "    </tr>\n",
       "  </thead>\n",
       "  <tbody>\n",
       "    <tr>\n",
       "      <th>0</th>\n",
       "      <td>1999-01-04</td>\n",
       "      <td>0.008917</td>\n",
       "      <td>1.1812</td>\n",
       "      <td>1.6581</td>\n",
       "      <td>1228.099976</td>\n",
       "      <td>1228.099976</td>\n",
       "      <td>877000000</td>\n",
       "      <td>2208.05</td>\n",
       "      <td>9184.27</td>\n",
       "    </tr>\n",
       "    <tr>\n",
       "      <th>1</th>\n",
       "      <td>1999-01-05</td>\n",
       "      <td>0.008997</td>\n",
       "      <td>1.1760</td>\n",
       "      <td>1.6566</td>\n",
       "      <td>1244.780029</td>\n",
       "      <td>1244.780029</td>\n",
       "      <td>775000000</td>\n",
       "      <td>2251.27</td>\n",
       "      <td>9311.19</td>\n",
       "    </tr>\n",
       "  </tbody>\n",
       "</table>\n",
       "</div>"
      ],
      "text/plain": [
       "        DATE  USD to JPY  USD to EUR  USD to GBP     Close_SP  Adj Close_SP  \\\n",
       "0 1999-01-04    0.008917      1.1812      1.6581  1228.099976   1228.099976   \n",
       "1 1999-01-05    0.008997      1.1760      1.6566  1244.780029   1244.780029   \n",
       "\n",
       "   Volume_SP NASDAQCOM  Close_DJ  \n",
       "0  877000000   2208.05   9184.27  \n",
       "1  775000000   2251.27   9311.19  "
      ]
     },
     "execution_count": 76,
     "metadata": {},
     "output_type": "execute_result"
    }
   ],
   "source": [
    "df_nasdaq['DATE'] = pd.to_datetime(df_nasdaq['DATE'])\n",
    "df_fins = pd.merge(df_sp, pd.merge(df_nasdaq, df_dj, on='DATE', how='inner'), on=['DATE', 'USD to JPY', 'USD to EUR', 'USD to GBP'], how='inner')\n",
    "df_fins.head(2)"
   ]
  },
  {
   "cell_type": "code",
   "execution_count": null,
   "metadata": {},
   "outputs": [],
   "source": [
    "df_fins.to_csv('financials.csv', index=False)"
   ]
  },
  {
   "cell_type": "markdown",
   "metadata": {},
   "source": [
    "Macro"
   ]
  },
  {
   "cell_type": "code",
   "execution_count": null,
   "metadata": {},
   "outputs": [
    {
     "data": {
      "text/html": [
       "<div>\n",
       "<style scoped>\n",
       "    .dataframe tbody tr th:only-of-type {\n",
       "        vertical-align: middle;\n",
       "    }\n",
       "\n",
       "    .dataframe tbody tr th {\n",
       "        vertical-align: top;\n",
       "    }\n",
       "\n",
       "    .dataframe thead th {\n",
       "        text-align: right;\n",
       "    }\n",
       "</style>\n",
       "<table border=\"1\" class=\"dataframe\">\n",
       "  <thead>\n",
       "    <tr style=\"text-align: right;\">\n",
       "      <th></th>\n",
       "      <th>DATE</th>\n",
       "      <th>M2SL</th>\n",
       "    </tr>\n",
       "  </thead>\n",
       "  <tbody>\n",
       "    <tr>\n",
       "      <th>0</th>\n",
       "      <td>1959-01-01</td>\n",
       "      <td>286.6</td>\n",
       "    </tr>\n",
       "    <tr>\n",
       "      <th>1</th>\n",
       "      <td>1959-02-01</td>\n",
       "      <td>287.7</td>\n",
       "    </tr>\n",
       "  </tbody>\n",
       "</table>\n",
       "</div>"
      ],
      "text/plain": [
       "         DATE   M2SL\n",
       "0  1959-01-01  286.6\n",
       "1  1959-02-01  287.7"
      ]
     },
     "execution_count": 80,
     "metadata": {},
     "output_type": "execute_result"
    }
   ],
   "source": [
    "# df_m2 = pd.read_csv('M2SL.csv')\n",
    "#ederal Reserve Bank of St. Louis, Real M2 Money Stock [M2REAL], retrieved from FRED, Federal Reserve Bank of St. Louis; https://fred.stlouisfed.org/series/M2REAL, March 29, 2024.\n",
    "df_m2.head(2)"
   ]
  },
  {
   "cell_type": "code",
   "execution_count": null,
   "metadata": {},
   "outputs": [],
   "source": [
    "dfs = [df_m2, df_cab, df_debt, df_gdp]\n",
    "for df in dfs:\n",
    "    df['DATE'] = pd.to_datetime(df['DATE'])\n",
    "# df_macro = pd.merge(df_m2, pd.merge(ers, pd.merge(df_cab, df_debt, on='DATE', how='outer'), on='DATE', how='outer'), on='DATE', how='outer')\n",
    "df_macro = pd.merge(df_macro, df_gdp, on='DATE', how='outer')"
   ]
  },
  {
   "cell_type": "code",
   "execution_count": null,
   "metadata": {},
   "outputs": [],
   "source": [
    "min_date_eur = df_macro[df_macro['USD to EUR'].notnull()]['DATE'].min()\n",
    "\n",
    "# Drop rows in the DataFrame where 'DATE' is less than the minimum date of 'USD to EUR'.\n",
    "df_macro = df_macro[df_macro['DATE'] >= min_date_eur]"
   ]
  },
  {
   "cell_type": "code",
   "execution_count": null,
   "metadata": {},
   "outputs": [],
   "source": [
    "df_macro.to_csv('macro.csv')"
   ]
  },
  {
   "cell_type": "code",
   "execution_count": null,
   "metadata": {},
   "outputs": [
    {
     "data": {
      "text/plain": [
       "DATE             0\n",
       "M2SL          6364\n",
       "USD to JPY     339\n",
       "USD to EUR     339\n",
       "USD to GBP     339\n",
       "NETFI         6566\n",
       "GFDEBTN       6566\n",
       "GDP           6566\n",
       "dtype: int64"
      ]
     },
     "execution_count": 94,
     "metadata": {},
     "output_type": "execute_result"
    }
   ],
   "source": [
    "df_macro.isna().sum()"
   ]
  },
  {
   "cell_type": "code",
   "execution_count": null,
   "metadata": {},
   "outputs": [
    {
     "data": {
      "image/png": "[encoded data removed]",
      "text/plain": [
       "<Figure size 1000x800 with 2 Axes>"
      ]
     },
     "metadata": {},
     "output_type": "display_data"
    }
   ],
   "source": [
    "corr = df_macro.corr()\n",
    "\n",
    "# Generating a heatmap\n",
    "plt.figure(figsize=(10, 8))\n",
    "sns.heatmap(corr, annot=True, cmap='coolwarm')\n",
    "plt.show()"
   ]
  },
  {
   "cell_type": "code",
   "execution_count": null,
   "metadata": {},
   "outputs": [
    {
     "data": {
      "text/html": [
       "<div>\n",
       "<style scoped>\n",
       "    .dataframe tbody tr th:only-of-type {\n",
       "        vertical-align: middle;\n",
       "    }\n",
       "\n",
       "    .dataframe tbody tr th {\n",
       "        vertical-align: top;\n",
       "    }\n",
       "\n",
       "    .dataframe thead th {\n",
       "        text-align: right;\n",
       "    }\n",
       "</style>\n",
       "<table border=\"1\" class=\"dataframe\">\n",
       "  <thead>\n",
       "    <tr style=\"text-align: right;\">\n",
       "      <th></th>\n",
       "      <th>DATE</th>\n",
       "      <th>M2SL</th>\n",
       "      <th>USD to JPY</th>\n",
       "      <th>USD to EUR</th>\n",
       "      <th>USD to GBP</th>\n",
       "      <th>NETFI</th>\n",
       "      <th>GFDEBTN</th>\n",
       "      <th>GDP</th>\n",
       "    </tr>\n",
       "  </thead>\n",
       "  <tbody>\n",
       "    <tr>\n",
       "      <th>DATE</th>\n",
       "      <td>1.000000</td>\n",
       "      <td>0.956073</td>\n",
       "      <td>-0.081156</td>\n",
       "      <td>0.082031</td>\n",
       "      <td>-0.631518</td>\n",
       "      <td>-0.266822</td>\n",
       "      <td>0.974400</td>\n",
       "      <td>0.976508</td>\n",
       "    </tr>\n",
       "    <tr>\n",
       "      <th>M2SL</th>\n",
       "      <td>0.956073</td>\n",
       "      <td>1.000000</td>\n",
       "      <td>-0.236372</td>\n",
       "      <td>-0.086937</td>\n",
       "      <td>-0.693130</td>\n",
       "      <td>-0.412813</td>\n",
       "      <td>0.990010</td>\n",
       "      <td>0.980915</td>\n",
       "    </tr>\n",
       "    <tr>\n",
       "      <th>USD to JPY</th>\n",
       "      <td>-0.081156</td>\n",
       "      <td>-0.236372</td>\n",
       "      <td>1.000000</td>\n",
       "      <td>0.577168</td>\n",
       "      <td>0.207502</td>\n",
       "      <td>0.281784</td>\n",
       "      <td>-0.012984</td>\n",
       "      <td>-0.040748</td>\n",
       "    </tr>\n",
       "    <tr>\n",
       "      <th>USD to EUR</th>\n",
       "      <td>0.082031</td>\n",
       "      <td>-0.086937</td>\n",
       "      <td>0.577168</td>\n",
       "      <td>1.000000</td>\n",
       "      <td>0.577307</td>\n",
       "      <td>-0.031116</td>\n",
       "      <td>-0.081437</td>\n",
       "      <td>-0.020010</td>\n",
       "    </tr>\n",
       "    <tr>\n",
       "      <th>USD to GBP</th>\n",
       "      <td>-0.631518</td>\n",
       "      <td>-0.693130</td>\n",
       "      <td>0.207502</td>\n",
       "      <td>0.577307</td>\n",
       "      <td>1.000000</td>\n",
       "      <td>0.004425</td>\n",
       "      <td>-0.712453</td>\n",
       "      <td>-0.641311</td>\n",
       "    </tr>\n",
       "    <tr>\n",
       "      <th>NETFI</th>\n",
       "      <td>-0.266822</td>\n",
       "      <td>-0.412813</td>\n",
       "      <td>0.281784</td>\n",
       "      <td>-0.031116</td>\n",
       "      <td>0.004425</td>\n",
       "      <td>1.000000</td>\n",
       "      <td>-0.323880</td>\n",
       "      <td>-0.397808</td>\n",
       "    </tr>\n",
       "    <tr>\n",
       "      <th>GFDEBTN</th>\n",
       "      <td>0.974400</td>\n",
       "      <td>0.990010</td>\n",
       "      <td>-0.012984</td>\n",
       "      <td>-0.081437</td>\n",
       "      <td>-0.712453</td>\n",
       "      <td>-0.323880</td>\n",
       "      <td>1.000000</td>\n",
       "      <td>0.984925</td>\n",
       "    </tr>\n",
       "    <tr>\n",
       "      <th>GDP</th>\n",
       "      <td>0.976508</td>\n",
       "      <td>0.980915</td>\n",
       "      <td>-0.040748</td>\n",
       "      <td>-0.020010</td>\n",
       "      <td>-0.641311</td>\n",
       "      <td>-0.397808</td>\n",
       "      <td>0.984925</td>\n",
       "      <td>1.000000</td>\n",
       "    </tr>\n",
       "  </tbody>\n",
       "</table>\n",
       "</div>"
      ],
      "text/plain": [
       "                DATE      M2SL  USD to JPY  USD to EUR  USD to GBP     NETFI  \\\n",
       "DATE        1.000000  0.956073   -0.081156    0.082031   -0.631518 -0.266822   \n",
       "M2SL        0.956073  1.000000   -0.236372   -0.086937   -0.693130 -0.412813   \n",
       "USD to JPY -0.081156 -0.236372    1.000000    0.577168    0.207502  0.281784   \n",
       "USD to EUR  0.082031 -0.086937    0.577168    1.000000    0.577307 -0.031116   \n",
       "USD to GBP -0.631518 -0.693130    0.207502    0.577307    1.000000  0.004425   \n",
       "NETFI      -0.266822 -0.412813    0.281784   -0.031116    0.004425  1.000000   \n",
       "GFDEBTN     0.974400  0.990010   -0.012984   -0.081437   -0.712453 -0.323880   \n",
       "GDP         0.976508  0.980915   -0.040748   -0.020010   -0.641311 -0.397808   \n",
       "\n",
       "             GFDEBTN       GDP  \n",
       "DATE        0.974400  0.976508  \n",
       "M2SL        0.990010  0.980915  \n",
       "USD to JPY -0.012984 -0.040748  \n",
       "USD to EUR -0.081437 -0.020010  \n",
       "USD to GBP -0.712453 -0.641311  \n",
       "NETFI      -0.323880 -0.397808  \n",
       "GFDEBTN     1.000000  0.984925  \n",
       "GDP         0.984925  1.000000  "
      ]
     },
     "execution_count": 112,
     "metadata": {},
     "output_type": "execute_result"
    }
   ],
   "source": [
    "corr"
   ]
  },
  {
   "cell_type": "markdown",
   "metadata": {},
   "source": [
    "Strong Correlations with M2 Money Supply (M2SL):\n",
    "\n",
    "Positive correlation with DATE (0.956073): Indicates that as time progresses, M2 money supply tends to increase. This is expected as economies grow over time.\n",
    "Highly positive correlation with Gross Federal Debt (GFDEBTN) (0.990010) and Gross Domestic Product (GDP) (0.980915):** This suggests that as the money supply increases, so do the GDP and the national debt. An expanding money supply often accompanies economic growth (reflected in GDP) and might be used to finance government debt.\n",
    "Negative correlation with USD to GBP exchange rate (-0.693130): Suggests that an increase in the M2 money supply is associated with a depreciation of the GBP relative to the USD.\n",
    "Exchange Rates:\n",
    "\n",
    "USD to JPY: Shows a significant positive correlation with USD to EUR (0.577168) and a moderate positive correlation with USD to GBP (0.207502), indicating that movements in USD to JPY tend to move in the same direction as these currencies but more strongly with EUR. This may suggest common underlying factors affecting these rates, such as USD strength or global economic conditions.\n",
    "USD to EUR and USD to GBP show a strong positive correlation (0.577307), indicating that when the USD appreciates/depreciates against the EUR, it likely does the same against the GBP.\n",
    "Net Federal Investments (NETFI) show a weak correlation with most variables except for a somewhat stronger negative correlation with M2SL (-0.412813) and a positive correlation with USD to JPY (0.281784). This suggests that federal investments have a modest impact on the money supply and some exchange rates but are not the primary drivers.\n",
    "\n",
    "Strong negative correlations of USD to GBP with M2SL (-0.693130) and GFDEBTN (-0.712453), as well as GDP (-0.641311), suggest that as the US economy grows and the money supply and debt increase, the GBP tends to depreciate relative to the USD.\n",
    "\n",
    "The DATE variable shows high positive correlations with M2SL, GFDEBTN, and GDP, indicating overall economic growth over time, with increasing money supply, debt, and GDP values."
   ]
  }
 ],
 "metadata": {
  "kernelspec": {
   "display_name": "Python 3",
   "language": "python",
   "name": "python3"
  },
  "language_info": {
   "codemirror_mode": {
    "name": "ipython",
    "version": 3
   },
   "file_extension": ".py",
   "mimetype": "text/x-python",
   "name": "python",
   "nbconvert_exporter": "python",
   "pygments_lexer": "ipython3",
   "version": "3.11.0"
  }
 },
 "nbformat": 4,
 "nbformat_minor": 2
}
